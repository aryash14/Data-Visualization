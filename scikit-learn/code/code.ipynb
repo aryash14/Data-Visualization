{
 "cells": [
  {
   "cell_type": "markdown",
   "metadata": {},
   "source": [
    "#### class"
   ]
  },
  {
   "cell_type": "code",
   "execution_count": 2,
   "metadata": {},
   "outputs": [],
   "source": [
    "class Review:\n",
    "    def __init__(self, text, score):\n",
    "        self.text = text\n",
    "        self.score = score\n",
    "        self.sentiment = self.get_sentiment()\n",
    "    def get_sentiment(self):\n",
    "        if self.score <= 2:\n",
    "            return \"Negative\"\n",
    "        elif self.score == 3:\n",
    "            return \"NEUTRAL\"\n",
    "        else:\n",
    "            return \"POSITIVE\"\n",
    "\n",
    "\n"
   ]
  },
  {
   "cell_type": "markdown",
   "metadata": {},
   "source": [
    "#### Load data"
   ]
  },
  {
   "cell_type": "code",
   "execution_count": 3,
   "metadata": {},
   "outputs": [],
   "source": [
    "import json\n",
    "\n",
    "file = '..\\data\\Books_small.json'\n",
    "reviews = list()\n",
    "with open(file) as f:\n",
    "    for line in f:\n",
    "        data = json.loads(line)\n",
    "        reviews.append(Review(data['reviewText'], data['overall']))\n",
    "\n"
   ]
  },
  {
   "cell_type": "code",
   "execution_count": 16,
   "metadata": {},
   "outputs": [],
   "source": [
    "from sklearn.model_selection import train_test_split\n",
    "\n",
    "training, test = train_test_split(reviews, test_size=0.33, random_state=42)\n",
    " \n",
    "train_x = [x.text for x in training]\n",
    "train_y = [x.sentiment for x in training]\n",
    "\n",
    "test_x = [x.text for x in test]\n",
    "test_y = [x.sentiment for x in test]"
   ]
  },
  {
   "cell_type": "markdown",
   "metadata": {},
   "source": [
    "#### Bag of Word sklearn (CountVectorizor)"
   ]
  },
  {
   "cell_type": "code",
   "execution_count": 20,
   "metadata": {},
   "outputs": [
    {
     "name": "stdout",
     "output_type": "stream",
     "text": [
      "  (0, 261)\t1\n",
      "  (0, 350)\t3\n",
      "  (0, 483)\t1\n",
      "  (0, 688)\t1\n",
      "  (0, 752)\t1\n",
      "  (0, 841)\t1\n",
      "  (0, 989)\t1\n",
      "  (0, 1296)\t1\n",
      "  (0, 1463)\t1\n",
      "  (0, 2304)\t1\n",
      "  (0, 2332)\t1\n",
      "  (0, 2860)\t1\n",
      "  (0, 2868)\t1\n",
      "  (0, 3065)\t1\n",
      "  (0, 3297)\t1\n",
      "  (0, 3534)\t2\n",
      "  (0, 3787)\t1\n",
      "  (0, 4478)\t1\n",
      "  (0, 4503)\t1\n",
      "  (0, 4640)\t1\n",
      "  (0, 4648)\t1\n",
      "  (0, 4938)\t1\n",
      "  (0, 5270)\t1\n",
      "  (0, 5281)\t1\n",
      "  (0, 5844)\t1\n",
      "  :\t:\n",
      "  (328, 5281)\t2\n",
      "  (328, 5560)\t1\n",
      "  (328, 5600)\t2\n",
      "  (328, 5891)\t1\n",
      "  (328, 5899)\t1\n",
      "  (328, 5928)\t1\n",
      "  (328, 6274)\t1\n",
      "  (328, 6595)\t3\n",
      "  (328, 6598)\t1\n",
      "  (328, 6632)\t1\n",
      "  (328, 6690)\t1\n",
      "  (328, 6709)\t1\n",
      "  (328, 7133)\t1\n",
      "  (328, 7232)\t1\n",
      "  (328, 7260)\t1\n",
      "  (328, 7307)\t1\n",
      "  (329, 841)\t1\n",
      "  (329, 1148)\t1\n",
      "  (329, 2223)\t1\n",
      "  (329, 2873)\t1\n",
      "  (329, 2952)\t1\n",
      "  (329, 4582)\t1\n",
      "  (329, 5285)\t1\n",
      "  (329, 6306)\t1\n",
      "  (329, 6632)\t1\n"
     ]
    }
   ],
   "source": [
    "from sklearn.feature_extraction.text import CountVectorizer\n",
    "vectorizor = CountVectorizer()\n",
    "train_x_vectors = vectorizor.fit_transform(train_x)\n",
    "test_x_vectors = vectorizor.transform(test_x)\n",
    "print(test_x_vectors)"
   ]
  },
  {
   "cell_type": "markdown",
   "metadata": {},
   "source": [
    "#### Classifier"
   ]
  },
  {
   "cell_type": "markdown",
   "metadata": {},
   "source": [
    "##### Linear svm"
   ]
  },
  {
   "cell_type": "code",
   "execution_count": 23,
   "metadata": {},
   "outputs": [
    {
     "name": "stdout",
     "output_type": "stream",
     "text": [
      "POSITIVE\n"
     ]
    },
    {
     "data": {
      "text/plain": [
       "array(['POSITIVE'], dtype='<U8')"
      ]
     },
     "execution_count": 23,
     "metadata": {},
     "output_type": "execute_result"
    }
   ],
   "source": [
    "from sklearn import svm\n",
    "clf_svm = svm.SVC(kernel='linear')\n",
    "clf_svm.fit(train_x_vectors, train_y)\n",
    "\n",
    "print(test_y[0])\n",
    "clf_svm.predict(test_x_vectors[0])"
   ]
  },
  {
   "cell_type": "code",
   "execution_count": null,
   "metadata": {},
   "outputs": [],
   "source": []
  }
 ],
 "metadata": {
  "interpreter": {
   "hash": "0bb88254342833f1b315205eeae7033c87d0099e9eda09dfc1a6811f81088ab7"
  },
  "kernelspec": {
   "display_name": "Python 3.8.3 ('base')",
   "language": "python",
   "name": "python3"
  },
  "language_info": {
   "codemirror_mode": {
    "name": "ipython",
    "version": 3
   },
   "file_extension": ".py",
   "mimetype": "text/x-python",
   "name": "python",
   "nbconvert_exporter": "python",
   "pygments_lexer": "ipython3",
   "version": "3.8.3"
  },
  "orig_nbformat": 4
 },
 "nbformat": 4,
 "nbformat_minor": 2
}
